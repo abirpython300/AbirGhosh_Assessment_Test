{
 "cells": [
  {
   "cell_type": "markdown",
   "metadata": {
    "id": "dNDDKmjMvnL4"
   },
   "source": [
    "# Evoastra Ventures Intern Assessment Task\n",
    "**Duration: 35 Minutes | Total Points: 100**\n",
    "\n",
    "---\n"
   ]
  },
  {
   "cell_type": "markdown",
   "metadata": {
    "id": "K6j6dTvIvnL6"
   },
   "source": [
    "## **Candidate Information**\n",
    "\n",
    "**Fill in your details below:**\n",
    "- **Name:Abir Ghosh\n",
    "- **Email:writerabirghsoh@gmail.com\n",
    "- **Phone:6290803338\n",
    "- **College/University:IVY professional school\n",
    "- **Course/Branch: Data Analytic and Visualization\n",
    "- **Start Time:**\n",
    "- **End Time:**\n"
   ]
  },
  {
   "cell_type": "markdown",
   "metadata": {
    "id": "v8X5RM4rvnL7"
   },
   "source": [
    "## **Dataset for Assessment**\n",
    "\n",
    "**E-commerce Customer Behavior Dataset**\n",
    "- **Direct Link:** https://www.kaggle.com/datasets/shriyashjagtap/e-commerce-customer-for-behavior-analysis\n",
    "\n",
    "**Dataset Columns:**\n",
    "- **Customer ID:** Unique identifier for each customer\n",
    "- **Customer Name:** Name of the customer\n",
    "- **Customer Age:** Age of the customer\n",
    "- **Gender:** Gender of the customer\n",
    "- **Purchase Date:** Date of each purchase\n",
    "- **Product Category:** Category of the purchased product\n",
    "- **Product Price:** Price of the purchased product\n",
    "- **Quantity:** Quantity of product purchased\n",
    "- **Total Purchase Amount:** Total amount spent in each transaction\n",
    "- **Payment Method:** Payment method used (credit card, PayPal, etc.)\n",
    "- **Returns:** Whether customer returned products (0 = No, 1 = Yes)\n",
    "- **Churn:** Whether customer has churned (0 = Retained, 1 = Churned)\n"
   ]
  },
  {
   "cell_type": "code",
   "execution_count": 1,
   "metadata": {
    "id": "lcMlGzz4zxEL"
   },
   "outputs": [],
   "source": [
    "import pandas as pd"
   ]
  },
  {
   "cell_type": "code",
   "execution_count": 4,
   "metadata": {
    "id": "kZT9wZMvz0gC"
   },
   "outputs": [
    {
     "ename": "SyntaxError",
     "evalue": "unterminated string literal (detected at line 1) (2676706374.py, line 1)",
     "output_type": "error",
     "traceback": [
      "\u001b[1;36m  Cell \u001b[1;32mIn[4], line 1\u001b[1;36m\u001b[0m\n\u001b[1;33m    df= pd.read_csv('\"D:\\\\IVY PRO SCHOOL\\\\evostra\\\\19.10.2025assessment1\\\\task\\\\customer_data.csv\")\u001b[0m\n\u001b[1;37m                    ^\u001b[0m\n\u001b[1;31mSyntaxError\u001b[0m\u001b[1;31m:\u001b[0m unterminated string literal (detected at line 1)\n"
     ]
    }
   ],
   "source": [
    "df= pd.read_csv('\"D:\\\\IVY PRO SCHOOL\\\\evostra\\\\19.10.2025assessment1\\\\task\\\\customer_data.csv\")"
   ]
  },
  {
   "cell_type": "code",
   "execution_count": 3,
   "metadata": {
    "colab": {
     "base_uri": "https://localhost:8080/",
     "height": 311
    },
    "id": "c783vDDS0VXT",
    "outputId": "e6e676ee-a0d3-4b98-fb09-2b2f51ba2845"
   },
   "outputs": [
    {
     "ename": "NameError",
     "evalue": "name 'df' is not defined",
     "output_type": "error",
     "traceback": [
      "\u001b[1;31m---------------------------------------------------------------------------\u001b[0m",
      "\u001b[1;31mNameError\u001b[0m                                 Traceback (most recent call last)",
      "Cell \u001b[1;32mIn[3], line 1\u001b[0m\n\u001b[1;32m----> 1\u001b[0m df\u001b[38;5;241m.\u001b[39mhead(\u001b[38;5;241m5\u001b[39m)\n",
      "\u001b[1;31mNameError\u001b[0m: name 'df' is not defined"
     ]
    }
   ],
   "source": [
    "df.head(5)"
   ]
  },
  {
   "cell_type": "code",
   "execution_count": null,
   "metadata": {
    "id": "BSDlT88r0U7q"
   },
   "outputs": [],
   "source": []
  },
  {
   "cell_type": "code",
   "execution_count": null,
   "metadata": {
    "id": "_cvitbQr0U1S"
   },
   "outputs": [],
   "source": []
  },
  {
   "cell_type": "code",
   "execution_count": null,
   "metadata": {
    "id": "tJL28x4A0Uvr"
   },
   "outputs": [],
   "source": []
  },
  {
   "cell_type": "code",
   "execution_count": null,
   "metadata": {
    "id": "rxKcEnIU0Ujz"
   },
   "outputs": [],
   "source": []
  },
  {
   "cell_type": "markdown",
   "metadata": {
    "id": "coH2aLk4vnL7"
   },
   "source": [
    "---\n",
    "## **SECTION A: Data Understanding & Basic Analysis (25 Points - 10 Minutes)**\n"
   ]
  },
  {
   "cell_type": "markdown",
   "metadata": {
    "id": "tufRWsJBvnL8"
   },
   "source": [
    "### Question 1 (8 points)\n",
    "Based on the dataset structure, identify the **data types** for the following columns and explain why each classification is important for analysis:\n",
    "\n",
    "- **Customer Age**\n",
    "- **Gender**\n",
    "- **Total Purchase Amount**\n",
    "- **Churn**\n"
   ]
  },
  {
   "cell_type": "code",
   "execution_count": null,
   "metadata": {
    "colab": {
     "base_uri": "https://localhost:8080/"
    },
    "id": "fv5qDy4zvnL8",
    "outputId": "16b92897-596e-4aa2-d2eb-32fd9a54ee2f"
   },
   "outputs": [
    {
     "name": "stdout",
     "output_type": "stream",
     "text": [
      "Customer Age:Statistical analysis of customer age will help to analyze the impact of age on the consumer churn rate. We will perform the predictive analysis to predict the consumer churn rate based on cosnumer age. As consumer churn rate is a continuous variable and age is an integer or contunuous variable then a box plot  help to visualize the relatiosnhip.Anova test can be performed to analyse the strength of relationship  betwen age and consumerchurn rate./n\n"
     ]
    }
   ],
   "source": [
    "# Your Answer for Question 1\n",
    "#Question1 = ('Customer Age:Statistical analysis of customer age will help to analyze the impact of age on the consumer churn rate.\n",
    "#We will perform the predictive analysis to predict the consumer churn rate based on cosnumer age. As consumer churn rate is a continuous variable and age is an integer or\n",
    "#contunuous variable then a box plot  help to visualize the relatiosnhip.Anova test can be performed to analyse the strength of relationship  betwen age and consumerchurn rate')\n",
    "\n",
    "# Gender: It will help to determine the impact of deographic pattern on consume churn rate.\n",
    "#Group bar plot will help to visualize the relationship between gender and consumer churn rate.\n",
    "#It will help to identify the gender with high consumer churn rate.\n",
    "#It will suggesst new strategies through targetting the gender.\n",
    "\n",
    "\n",
    "# Total Purchase Amount: The value of customers depend on the purchase amount they pay to the store.\n",
    "# Total purchase amount is a continuous variable. Box plot and histogram can be performed to determine the range of customer value that have maximum churn rate.\n",
    "\n",
    "# Churn:Churn has the most important role in the predictive model as it categorical target variable. Analysis of the churn rate will help to determine the factors\n",
    "#that have maximum contributions on cosnumer dissatisfaction and churn.\n",
    "\n",
    "print(Question1)\n"
   ]
  },
  {
   "cell_type": "markdown",
   "metadata": {
    "id": "__qB1FlRvnL9"
   },
   "source": [
    "### Question 2 (8 points)\n",
    "Which **analytical technique** would be most appropriate for each business question below?\n",
    "\n",
    "a) \"Which product categories generate the highest revenue?\"\n",
    "b) \"Can we predict customer churn based on purchase behavior?\"\n",
    "c) \"What is the relationship between customer age and spending patterns?\"\n",
    "d) \"Which payment methods are preferred by different customer segments?\"\n"
   ]
  },
  {
   "cell_type": "code",
   "execution_count": null,
   "metadata": {
    "id": "iAKwEaMJvnL9"
   },
   "outputs": [],
   "source": [
    "# Your Answer for Question 2\n",
    "# a) Product categories with highest revenue: Aggregated descriptive analysis can help to analyze the highest revenue generate from each product categiry.\n",
    "#Group by technique will be used to perform the descriptive aggregation analysis. It will also helo mesure the historical sales performance of the product categories.\n",
    "\n",
    "# b) Predicting customer churn: Predictive modelling will be performed to analyze the Predictive customer churn. Logistic regression and other\n",
    "# statistical models will be applied based on the nature of predictive varianble. Churn will be the categorical Target variable.\n",
    "\n",
    "# c) Age and spending relationship: Both the age and spending will be applied as continuous predictive variables in the predictive model.\n",
    "#Linear regression modle will be applied to predict the churn as churn is categorical target variable.\n",
    "\n",
    "# d) Payment method preferences: As payment method preferences is a categorical variable there pivot table or cross tabulation can be applied to analyze this variable.\n"
   ]
  },
  {
   "cell_type": "markdown",
   "metadata": {
    "id": "HVCa1X8jvnL9"
   },
   "source": [
    "### Question 3 (9 points)\n",
    "**Data Quality Assessment:** What are the top 3 potential data quality issues you would check for in this e-commerce dataset before starting analysis? For each issue, suggest one method to detect it.\n"
   ]
  },
  {
   "cell_type": "code",
   "execution_count": null,
   "metadata": {
    "id": "BDBB7WTnvnL-"
   },
   "outputs": [],
   "source": [
    "# Your Answer for Question 3\n",
    "# Issue 1: Missing values are importnat reason behind incomplete analysis ecommerce data.Missing and null values reduce the quality of data through increasing the probability of developing errors\n",
    "#in the predictive modelling and inaccuracy in generating insights.\n",
    "\n",
    "# Detection Method 1: df.duplicated().sum() helps to determine number of duplicate data. dataset.drop.duplicate helps to eliminate the data.\n",
    "\n",
    "# Issue 2: Inconsistent and invalid data entry are common issues in the categorical data column. Such inconsistency distort the data summarization and result if descriptive analysis.\n",
    "\n",
    "# Detection Method 2: df.nunique will help to determine the uninique values in the categorical column data. df[df['Quantity']<=0] and df[df['Total Purchase Amount']< 0] can be applied to detect\n",
    "#the inconsistencies. Drop the rows with inconssistent data can be an effectuve method to resolve this issue.\n",
    "\n",
    "# Issue 3: Duplicate and mismatched data can distort data associated with revenue and chur in the group by summarization analysis.\n",
    "\n",
    "# Detection Method 3: df.duplicated().sum() will help to count the  duplicate value. df.drop_duplicates(inplace=True) will help to eliminate the duplicate values.\n"
   ]
  },
  {
   "cell_type": "markdown",
   "metadata": {
    "id": "b9Bo9tS8vnL-"
   },
   "source": [
    "---\n",
    "## **SECTION B: Customer Analysis & Business Intelligence (35 Points - 15 Minutes)**\n"
   ]
  },
  {
   "cell_type": "markdown",
   "metadata": {
    "id": "Mc1-lgecvnL-"
   },
   "source": [
    "### Scenario: E-commerce Revenue Analysis\n",
    "\n",
    "Based on the dataset structure, assume you have the following customer insights:\n",
    "\n",
    "**Customer Segments by Age:**\n",
    "- **Young (18-30):** 40% of customers, Average Purchase Amount: ₹850, Return Rate: 12%\n",
    "- **Middle-aged (31-50):** 45% of customers, Average Purchase Amount: ₹1,200, Return Rate: 8%\n",
    "- **Senior (51+):** 15% of customers, Average Purchase Amount: ₹950, Return Rate: 15%\n",
    "\n",
    "**Additional Information:**\n",
    "- Average customer acquisition cost: ₹180\n",
    "- Platform profit margin: 20% of purchase amount\n",
    "- Customer churn rates: Young (25%), Middle-aged (15%), Senior (30%)\n"
   ]
  },
  {
   "cell_type": "markdown",
   "metadata": {
    "id": "7d1ExL0kvnL_"
   },
   "source": [
    "### Question 4 (15 points)\n",
    "**Calculate and analyze:**\n",
    "\n",
    "a) Which customer segment generates the highest **net profit per customer** (considering returns)? Show your calculations. (8 points)\n",
    "\n",
    "b) Which segment has the **best customer lifetime value** considering churn rates? Provide reasoning. (7 points)\n"
   ]
  },
  {
   "cell_type": "code",
   "execution_count": null,
   "metadata": {
    "id": "mWRw7GgFvnL_"
   },
   "outputs": [],
   "source": [
    "# Your Calculations for Question 4\n",
    "\n",
    "# a) Net profit per customer calculations:\n",
    "\n",
    "# Young Customers:\n",
    "#Average purhase = 850\n",
    "#Net revenue = 850*1-.12=850*.88= 748\n",
    "#contribution (net revenue*platform profit margin)= 748*0.20= 149.60\n",
    "#Net profit = 149.60-180= -30.40 (loss)\n",
    "\n",
    "# Middle-aged Customers:\n",
    "#Average_purchase= 1200\n",
    "#Net_revenue= 1200*(1-0.08) = 1200*0.92= 1104\n",
    "#contribution = 1104*0.20= 220.80\n",
    "#Net_profit= 220.80-180= 40.80 (profit)\n",
    "\n",
    "# Senior Customers:\n",
    "#Average_purchase= 950\n",
    "#Net_revenue= 950*(1-0.15) = 950*0.85= 807.5\n",
    "#Contribution = 807.5*0.20= 161.5\n",
    "#Net_profit=161.5-180= -25.5 (loss)\n",
    "\n",
    "#Ans: The middle aged customer segment is generate highest net profot for the store.\n",
    "\n",
    "# b) Customer Lifetime Value Analysis:\n",
    "\n",
    "#YOUNG CUSTOMERS\n",
    "#Contribution per period = ₹149.60\n",
    "#Churn = 25% = 0.25\n",
    "#CLV = (149.60 ÷ 0.25) − 180 = 598.40 − 180 = ₹418.40\n",
    "#Middle aged customers\n",
    "#Contribution per period = ₹220.80\n",
    "#Churn = 15% = 0.15\n",
    "#CLV = (220.80 ÷ 0.15) − 180 = 1,472.00 − 180 = ₹1,292.00\n",
    "#senior\n",
    "#Contribution per period = ₹161.50\n",
    "#Churn = 30% = 0.30\n",
    "#CLV = (161.50 ÷ 0.30) − 180 = 538.33 − 180 = ₹358.33\n",
    "\n",
    "#Ans: The middle aged customer segment also has the highest consumer lifetime value.\n"
   ]
  },
  {
   "cell_type": "markdown",
   "metadata": {
    "id": "av17UNxCvnL_"
   },
   "source": [
    "### Question 5 (10 points)\n",
    "**Strategic Recommendations:** Based on your analysis, what would be your **top 2 marketing strategies** to maximize overall profitability? Consider customer acquisition, retention, and return rates.\n"
   ]
  },
  {
   "cell_type": "code",
   "execution_count": null,
   "metadata": {
    "id": "TL67c4jLvnMA"
   },
   "outputs": [],
   "source": [
    "# Your Answer for Question 5\n",
    "\n",
    "# Strategy 1: Application of customer retention strategy to retain customers with high customer lifecycle value.\n",
    "#The store can provide exclusive discount to the customers as reward of their loyalty.\n",
    "#Application of predictive model to determine the customer with high risk of churn.\n",
    "#Services like faster delivery, faster return and free delivery can create premium consumer experience among customers.\n",
    "\n",
    "\n",
    "# Strategy 2: Improve product quality to redice product return.\n",
    "#Select the suppliers very carefully based on the brand reputation.\n",
    "#Implement the quality audit at regular intervals.\n",
    "# Take appropriate action agaist the supplier with high return rate.\n",
    "\n",
    "#Imlementation of all the above strategies will reduce losses of the store due to return and consumer churn. It will also increase the revenue.\n"
   ]
  },
  {
   "cell_type": "markdown",
   "metadata": {
    "id": "sC0zsSECvnMA"
   },
   "source": [
    "### Question 6 (10 points)\n",
    "**Churn Prevention:** You notice that customers who make purchases in the \"Electronics\" category have a 35% churn rate, while \"Fashion\" category customers have only 18% churn rate. What **specific data analysis** would you conduct using the available dataset columns to understand this difference, and what **action plan** would you recommend?\n"
   ]
  },
  {
   "cell_type": "code",
   "execution_count": 17,
   "metadata": {
    "colab": {
     "base_uri": "https://localhost:8080/"
    },
    "id": "Sks-Xi9bvnMA",
    "outputId": "a2159671-d383-439a-cc85-5751c5669d07"
   },
   "outputs": [
    {
     "name": "stdout",
     "output_type": "stream",
     "text": [
      "/nData Analysis Plan: The following analysis will be conducted:/nPurchase behaviour analysis will help to determine specific seasosn or reasons in which the customers buy less electronic products./nAnalysis of spending pattern will help to determine the impact of price on consumer demand./nReturn analysis to determine the impact of product return on the reputation of brand among consumers./nAnalysis of payment behaviour will help to determine the payment method applied by the consumers.It will help to improve the transaction convenience.Action Plan: The following action plan can be implemnted to resolve the issues:/nDetermine the brands electronic items based on the market reputaion about the quality of their products./nStore product return related data so that the brands of lower quality oof products can be identified./nProvide loyalty point that can be converted into discount to retain the loyal cosnumers and influene the for repeat their purchasing.\n"
     ]
    }
   ],
   "source": [
    "# Your Answer for Question 6\n",
    "\n",
    "Ans6 = (\"/nData Analysis Plan: The following analysis will be conducted:\"\n",
    "\"/nPurchase behaviour analysis will help to determine specific seasosn or reasons in which the customers buy less electronic products.\"\n",
    "\"/nAnalysis of spending pattern will help to determine the impact of price on consumer demand.\"\n",
    "\"/nReturn analysis to determine the impact of product return on the reputation of brand among consumers.\"\n",
    "\"/nAnalysis of payment behaviour will help to determine the payment method applied by the consumers.\"\n",
    "\"It will help to improve the transaction convenience.Action Plan: The following action plan can be implemnted to resolve the issues:\"\n",
    "\"/nDetermine the brands electronic items based on the market reputaion about the quality of their products.\"\n",
    "\"/nStore product return related data so that the brands of lower quality oof products can be identified.\"\n",
    "\"/nProvide loyalty point that can be converted into discount to retain the loyal cosnumers and influene the for repeat their purchasing.\")\n",
    "\n",
    "\n",
    "print(Ans6)\n",
    "\n"
   ]
  },
  {
   "cell_type": "markdown",
   "metadata": {
    "id": "H1McGA2QvnMA"
   },
   "source": [
    "---\n",
    "## **SECTION C: Research Methodology & Predictive Analytics (25 Points - 8 Minutes)**\n"
   ]
  },
  {
   "cell_type": "markdown",
   "metadata": {
    "id": "sp1EF6uSvnMA"
   },
   "source": [
    "### Scenario: Churn Prediction Model Development\n",
    "\n",
    "Your company wants to build a machine learning model to predict customer churn using the available dataset.\n"
   ]
  },
  {
   "cell_type": "markdown",
   "metadata": {
    "id": "nAPz7XbovnMB"
   },
   "source": [
    "### Question 7 (15 points)\n",
    "**Model Development Plan:** Create a comprehensive approach including:\n",
    "\n",
    "a) **Feature selection:** Which columns from the dataset would you use as features for the churn prediction model and why? (5 points)\n",
    "b) **Data preprocessing steps:** What preprocessing would you apply to prepare the data? (5 points)\n",
    "c) **Model evaluation metrics:** Which metrics would you use to evaluate model performance for this business problem? (5 points)\n"
   ]
  },
  {
   "cell_type": "code",
   "execution_count": 10,
   "metadata": {
    "colab": {
     "base_uri": "https://localhost:8080/"
    },
    "id": "RIw7zDHJvnMB",
    "outputId": "237bde2a-0bcb-4edd-ec62-d97db08db378"
   },
   "outputs": [
    {
     "name": "stdout",
     "output_type": "stream",
     "text": [
      "\n",
      " Feature Selection: Following three features will be integrated in the predicting model:\n",
      "Consumer behavioural analysis feature will help to develop the quality of service for satisfying the high spending consumer requirement so that their loyalty can be retained.\n",
      "b) Data Preprocessing Steps: Data cleaning and encoding will be followed for preparing the data to develop the Predictive model with machine learning algorith.\n",
      "c) Model Evaluation Metrics: F1-score will be calculated to evaluate the accuracy and precision of the model.\n",
      "The formula of F1-score will be 2*(Precisio*Recall)/(Precision+recall).\n"
     ]
    }
   ],
   "source": [
    "# Your Answer for Question 7\n",
    "Ans7 = (\n",
    "    \"\\n Feature Selection: Following three features will be integrated in the predicting model:\"\n",
    "    \"\\nConsumer behavioural analysis feature will help to develop the quality of service for satisfying the high spending consumer requirement so that their loyalty can be retained.\"\n",
    "    \"\\nb) Data Preprocessing Steps: Data cleaning and encoding will be followed for preparing the data to develop the Predictive model with machine learning algorith.\"\n",
    "    \"\\nc) Model Evaluation Metrics: F1-score will be calculated to evaluate the accuracy and precision of the model.\"\n",
    "    \"\\nThe formula of F1-score will be 2*(Precisio*Recall)/(Precision+recall).\"\n",
    ")\n",
    "print(Ans7)"
   ]
  },
  {
   "cell_type": "markdown",
   "metadata": {
    "id": "DLwdWSUqvnMB"
   },
   "source": [
    "### Question 8 (10 points)\n",
    "**Business Impact Analysis:** Identify 3 potential business challenges in implementing a churn prediction model and propose one **data-driven solution** for each challenge using insights from the customer behavior dataset.\n"
   ]
  },
  {
   "cell_type": "code",
   "execution_count": 8,
   "metadata": {
    "colab": {
     "base_uri": "https://localhost:8080/"
    },
    "id": "1eExqpJ1vnMC",
    "outputId": "409360c8-2a47-4d2b-9e05-6cd5b1b3c413"
   },
   "outputs": [
    {
     "name": "stdout",
     "output_type": "stream",
     "text": [
      "\n",
      "Challenge 1: Data incosistency and null value can create the challange of data imbalance.\n",
      "The predictive model will fail to determine the rea churners for such data imbalance.\n",
      "Data-driven Solution 1: Focus more on F1 score and Recall to overcome this challnge.\n",
      "Challenge 2: As the purchase data is updating continuously therefore, it creates the challange of model outdating.\n",
      "Data-driven Solution 2: The model should be retrained with new purchase data at regular interval to overcome model outdating challenge.\n",
      "Challenge 3: Low impact of the predictive model on the business as the insights are not enough to take effective business actions.\n",
      "Data-driven Solution 3: Development of segmentation dashboard will help to gain effective business insights to take effectuve business actions.\n"
     ]
    }
   ],
   "source": [
    "# Your Answer for Question 8\n",
    "Ans8 = (\"\\nChallenge 1: Data incosistency and null value can create the challange of data imbalance.\"\n",
    "\"\\nThe predictive model will fail to determine the rea churners for such data imbalance.\"\n",
    "\"\\nData-driven Solution 1: Focus more on F1 score and Recall to overcome this challnge.\"\n",
    "\"\\nChallenge 2: As the purchase data is updating continuously therefore, it creates the challange of model outdating.\"\n",
    "\"\\nData-driven Solution 2: The model should be retrained with new purchase data at regular interval to overcome model outdating challenge.\"\n",
    "\"\\nChallenge 3: Low impact of the predictive model on the business as the insights are not enough to take effective business actions.\"\n",
    "\"\\nData-driven Solution 3: Development of segmentation dashboard will help to gain effective business insights to take effectuve business actions.\")\n",
    "\n",
    "print(Ans8)\n",
    "\n"
   ]
  },
  {
   "cell_type": "markdown",
   "metadata": {
    "id": "Ks1btE8mvnMC"
   },
   "source": [
    "---\n",
    "## **SECTION D: Professional Communication & Problem-Solving (15 Points - 2 Minutes)**\n"
   ]
  },
  {
   "cell_type": "markdown",
   "metadata": {
    "id": "U9dpeAsevnMD"
   },
   "source": [
    "### Question 9 (8 points)\n",
    "**Crisis Management:** While analyzing the dataset, you discover that 40% of customers who returned products (Returns = 1) also churned within the same month. However, your initial analysis showed returns don't strongly correlate with churn. As a team member, describe your immediate approach to investigate this discrepancy and communicate findings to stakeholders (60-80 words).\n"
   ]
  },
  {
   "cell_type": "code",
   "execution_count": 6,
   "metadata": {
    "colab": {
     "base_uri": "https://localhost:8080/"
    },
    "id": "3S-pA6y2vnMD",
    "outputId": "da16c25f-0f77-4d4b-87f2-057d988f1980"
   },
   "outputs": [
    {
     "name": "stdout",
     "output_type": "stream",
     "text": [
      "\n",
      "I would first verify data accuracy by checking for duplicate records, incorrect date entries, or mismatched time periods between Returns and Churn.\n",
      "Then, I would perform a time-based correlation or cohort analysis to see if churn follows recent returns.\n",
      "If confirmed, I’d visualize trends and explain to stakeholders that although the overall correlation seems weak,\n",
      "short-term return events have a strong temporal impact on churn, suggesting an immediate customer experience issue.\n"
     ]
    }
   ],
   "source": [
    "# Your Answer for Question 9 (60-80 words)\n",
    "Ans9 =(\"\\nI would first verify data accuracy by checking for duplicate records, incorrect date entries, or mismatched time periods between Returns and Churn.\"\n",
    "\"\\nThen, I would perform a time-based correlation or cohort analysis to see if churn follows recent returns.\"\n",
    "\"\\nIf confirmed, I’d visualize trends and explain to stakeholders that although the overall correlation seems weak,\"\n",
    "\"\\nshort-term return events have a strong temporal impact on churn, suggesting an immediate customer experience issue.\")\n",
    "print(Ans9)"
   ]
  },
  {
   "cell_type": "markdown",
   "metadata": {
    "id": "2JAJtvhDvnMD"
   },
   "source": [
    "### Question 10 (7 points)\n",
    "**Leadership Scenario:** If selected as team lead for analyzing this e-commerce customer dataset, what would be your **top 3 priorities** to ensure effective team collaboration and delivery of actionable business insights?\n"
   ]
  },
  {
   "cell_type": "code",
   "execution_count": 5,
   "metadata": {
    "colab": {
     "base_uri": "https://localhost:8080/"
    },
    "id": "5tecpk08vnME",
    "outputId": "b2e17a78-25eb-4c68-9f7b-0ac1cb70a25f"
   },
   "outputs": [
    {
     "name": "stdout",
     "output_type": "stream",
     "text": [
      "\n",
      "Priority 1: As a leader I will focus on the governance and control of collecting data to reduce the collection of inconsistent data as much as possible.\n",
      "It will help in reducing complexities to clean data for preparing in predictive model development process.\n",
      "Priority 2: I will also pay focus on clear communication through developing a shared dashboard to avoid any kind of confusions regarding the data and\n",
      "business objectives associated with the development of predictive model.\n",
      "Priority 3: Provide appropriate recommendations based on the business trend predicted by the model.\n",
      "Business actions will be supported by clear data associated business outcomes.\n"
     ]
    }
   ],
   "source": [
    "# Your Answer for Question 10\n",
    "Ans10 = (\"\\nPriority 1: As a leader I will focus on the governance and control of collecting data to reduce the collection of inconsistent data as much as possible.\"\n",
    "\"\\nIt will help in reducing complexities to clean data for preparing in predictive model development process.\"\n",
    "\"\\nPriority 2: I will also pay focus on clear communication through developing a shared dashboard to avoid any kind of confusions regarding the data and\"\n",
    "\"\\nbusiness objectives associated with the development of predictive model.\"\n",
    "\"\\nPriority 3: Provide appropriate recommendations based on the business trend predicted by the model.\"\n",
    "\"\\nBusiness actions will be supported by clear data associated business outcomes.\")\n",
    "\n",
    "print(Ans10)"
   ]
  },
  {
   "cell_type": "markdown",
   "metadata": {
    "id": "aiM0PX01vnME"
   },
   "source": [
    "---\n",
    "## **Self-Assessment Section**\n"
   ]
  },
  {
   "cell_type": "code",
   "execution_count": null,
   "metadata": {
    "id": "AQRG1Bi2vnMF"
   },
   "outputs": [],
   "source": [
    "# Time Management Check\n",
    "# Did you complete all sections within 35 minutes? (Yes/No): Yes\n",
    "\n",
    "# Which section took the most time?\n",
    "#Section B\n",
    "\n",
    "# Which section was most challenging?\n",
    "\n",
    "# Confidence Level (1-10 scale):\n",
    "# Section A (Data Understanding): 8\n",
    "# Section B (Business Analysis): 9\n",
    "# Section C (Research Methodology): 7\n",
    "# Section D (Communication): 9\n",
    "\n",
    "# Additional Comments:\n"
   ]
  },
  {
   "cell_type": "markdown",
   "metadata": {
    "id": "6872jkCIvnMF"
   },
   "source": [
    "---\n",
    "## **Submission Instructions**\n",
    "\n",
    "1. **Save this notebook** with the filename: `YourName_Evoastra_Assessment.ipynb`\n",
    "2. **Ensure all code cells have been executed** and answers are visible\n",
    "3. **Double-check** that all sections are completed\n",
    "\n",
    "**Submission Confirmation:**\n",
    "- I confirm that I have completed this assessment independently\n",
    "- All my responses are my own original work\n",
    "\n",
    "**Digital Signature:** __Abir Ghosh______________________  \n",
    "**Final Submission Time:** ____________________"
   ]
  },
  {
   "cell_type": "markdown",
   "metadata": {
    "id": "LlmEh3SEvnMF"
   },
   "source": [
    "---\n",
    "## **Evaluation Criteria**\n",
    "\n",
    "**Scoring Breakdown:**\n",
    "- **Section A (Data Understanding):** 25 points\n",
    "- **Section B (Business Analysis):** 35 points  \n",
    "- **Section C (Research Methodology):** 25 points\n",
    "- **Section D (Communication):** 15 points\n",
    "- **Total:** 100 points\n",
    "\n",
    "**Team Selection Criteria:**\n",
    "- **Team Lead:** Score ≥ 75 points + Strong Section D performance\n",
    "- **Co-Lead:** Score ≥ 65 points + Good Section D performance\n",
    "- **Team Member:** Successful completion of assessment\n",
    "\n",
    "---\n",
    "\n",
    "*Good luck with your assessment! Focus on clear reasoning, accurate calculations, and practical business applications.*"
   ]
  }
 ],
 "metadata": {
  "colab": {
   "provenance": []
  },
  "kernelspec": {
   "display_name": "Python [conda env:base] *",
   "language": "python",
   "name": "conda-base-py"
  },
  "language_info": {
   "codemirror_mode": {
    "name": "ipython",
    "version": 3
   },
   "file_extension": ".py",
   "mimetype": "text/x-python",
   "name": "python",
   "nbconvert_exporter": "python",
   "pygments_lexer": "ipython3",
   "version": "3.12.7"
  }
 },
 "nbformat": 4,
 "nbformat_minor": 4
}
